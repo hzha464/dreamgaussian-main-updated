{
 "cells": [
  {
   "cell_type": "code",
   "execution_count": 2,
   "id": "532feede-e2b2-4f11-aab8-fffbaf5625bc",
   "metadata": {},
   "outputs": [
    {
     "name": "stderr",
     "output_type": "stream",
     "text": [
      "usage: ipykernel_launcher.py [-h] [--dir DIR] [--out OUT] [--video-out VIDEO_OUT] [--gpu GPU] [--elevation ELEVATION]\n",
      "                             [--config CONFIG]\n",
      "ipykernel_launcher.py: error: unrecognized arguments: -f C:\\Users\\zhang\\AppData\\Roaming\\jupyter\\runtime\\kernel-d78907b3-bc5b-4c30-b387-e68cae8c989b.json\n"
     ]
    },
    {
     "ename": "SystemExit",
     "evalue": "2",
     "output_type": "error",
     "traceback": [
      "An exception has occurred, use %tb to see the full traceback.\n",
      "\u001b[1;31mSystemExit\u001b[0m\u001b[1;31m:\u001b[0m 2\n"
     ]
    },
    {
     "name": "stderr",
     "output_type": "stream",
     "text": [
      "C:\\Users\\zhang\\anaconda3\\Lib\\site-packages\\IPython\\core\\interactiveshell.py:3561: UserWarning: To exit: use 'exit', 'quit', or Ctrl-D.\n",
      "  warn(\"To exit: use 'exit', 'quit', or Ctrl-D.\", stacklevel=1)\n"
     ]
    }
   ],
   "source": [
    "# %load runall.py\n",
    "import os\n",
    "import glob\n",
    "import argparse\n",
    "\n",
    "parser = argparse.ArgumentParser()\n",
    "parser.add_argument('--dir', default='data', type=str, help='Directory where processed images are stored')\n",
    "parser.add_argument('--out', default='logs', type=str, help='Directory where obj files will be saved')\n",
    "parser.add_argument('--video-out', default='videos', type=str, help='Directory where videos will be saved')\n",
    "parser.add_argument('--gpu', default=0, type=int, help='ID of GPU to use')\n",
    "parser.add_argument('--elevation', default=0, type=int, help='Elevation angle of view in degrees')\n",
    "parser.add_argument('--config', default='configs', type=str, help='Path to config directory, which contains image.yaml')\n",
    "args = parser.parse_args()\n",
    "\n",
    "files = glob.glob(f'{args.dir}/*_rgba.png')\n",
    "configs_dir = args.config\n",
    "\n",
    "# check if image.yaml exists\n",
    "if not os.path.exists(os.path.join(configs_dir, 'image.yaml')):\n",
    "    raise FileNotFoundError(\n",
    "        f'image.yaml not found in {configs_dir} directory. Please check if the directory is correct.'\n",
    "    )\n",
    "\n",
    "# create output directories if not exists\n",
    "out_dir = args.out\n",
    "os.makedirs(out_dir, exist_ok=True)\n",
    "video_dir = args.video_out\n",
    "os.makedirs(video_dir, exist_ok=True)\n",
    "\n",
    "\n",
    "for file in files:\n",
    "    name = os.path.basename(file).replace(\"_rgba.png\", \"\")\n",
    "    print(f'======== processing {name} ========')\n",
    "    # first stage\n",
    "    os.system(f'CUDA_VISIBLE_DEVICES={args.gpu} python main.py '\n",
    "              f'--config {configs_dir}/image.yaml '\n",
    "              f'input={file} '\n",
    "              f'save_path={name} elevation={args.elevation}')\n",
    "    # second stage\n",
    "    os.system(f'CUDA_VISIBLE_DEVICES={args.gpu} python main2.py '\n",
    "              f'--config {configs_dir}/image.yaml '\n",
    "              f'input={file} '\n",
    "              f'save_path={name} elevation={args.elevation}')\n",
    "    # export video\n",
    "    mesh_path = os.path.join(out_dir, f'{name}.obj')\n",
    "    os.system(f'python -m kiui.render {mesh_path} '\n",
    "              f'--save_video {video_dir}/{name}.mp4 '\n",
    "              f'--wogui '\n",
    "              f'--elevation {args.elevation}')\n"
   ]
  },
  {
   "cell_type": "code",
   "execution_count": null,
   "id": "b84281b9-7496-4139-b930-1d077a76028e",
   "metadata": {},
   "outputs": [],
   "source": []
  }
 ],
 "metadata": {
  "kernelspec": {
   "display_name": "Python 3 (ipykernel)",
   "language": "python",
   "name": "python3"
  },
  "language_info": {
   "codemirror_mode": {
    "name": "ipython",
    "version": 3
   },
   "file_extension": ".py",
   "mimetype": "text/x-python",
   "name": "python",
   "nbconvert_exporter": "python",
   "pygments_lexer": "ipython3",
   "version": "3.11.8"
  }
 },
 "nbformat": 4,
 "nbformat_minor": 5
}
